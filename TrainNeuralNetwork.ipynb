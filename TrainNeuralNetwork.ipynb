{
 "cells": [
  {
   "cell_type": "markdown",
   "id": "e3f9bef8",
   "metadata": {},
   "source": [
    "# 0. Import libraries"
   ]
  },
  {
   "cell_type": "markdown",
   "id": "56a2f8ed",
   "metadata": {},
   "source": [
    "The libraries used to create the data are in the following cell"
   ]
  },
  {
   "cell_type": "code",
   "execution_count": 1,
   "id": "c0741bed",
   "metadata": {},
   "outputs": [
    {
     "name": "stderr",
     "output_type": "stream",
     "text": [
      "2023-09-27 10:23:24.918892: I tensorflow/core/platform/cpu_feature_guard.cc:182] This TensorFlow binary is optimized to use available CPU instructions in performance-critical operations.\n",
      "To enable the following instructions: AVX2 FMA, in other operations, rebuild TensorFlow with the appropriate compiler flags.\n",
      "2023-09-27 10:23:25.507458: W tensorflow/compiler/tf2tensorrt/utils/py_utils.cc:38] TF-TRT Warning: Could not find TensorRT\n"
     ]
    }
   ],
   "source": [
    "import tensorflow as tf\n",
    "from tensorflow import keras\n",
    "from keras.optimizers import Adam\n",
    "from keras.callbacks import ReduceLROnPlateau, EarlyStopping\n",
    "\n",
    "from modeling import * \n",
    "from constants import DATA_FOLDER_PATH"
   ]
  },
  {
   "cell_type": "markdown",
   "id": "dd2879df",
   "metadata": {},
   "source": [
    "# 1. Define constants"
   ]
  },
  {
   "cell_type": "markdown",
   "id": "ce63383a",
   "metadata": {},
   "source": [
    "This section defines constants to specify the location of the data and where the model will be stored"
   ]
  },
  {
   "cell_type": "code",
   "execution_count": 2,
   "id": "6ebca1e5",
   "metadata": {},
   "outputs": [],
   "source": [
    "# Path to the files where the data for the training is\n",
    "FEATURES_FILENAME = \"surfaces_linear.npy\"\n",
    "LABELS_FILENAME = \"coefficients_linear.npy\"\n",
    "\n",
    "FEATURES_FILE_PATH = f\"{DATA_FOLDER_PATH}/{FEATURES_FILENAME}\"\n",
    "LABELS_FILE_PATH = f\"{DATA_FOLDER_PATH}/{LABELS_FILENAME}\""
   ]
  },
  {
   "cell_type": "markdown",
   "id": "17bd56de",
   "metadata": {},
   "source": [
    "# 2. Read data"
   ]
  },
  {
   "cell_type": "markdown",
   "id": "fc99edb1",
   "metadata": {},
   "source": [
    "Get train, validation and test data"
   ]
  },
  {
   "cell_type": "code",
   "execution_count": 3,
   "id": "5e755cc2",
   "metadata": {},
   "outputs": [],
   "source": [
    "train_features, \\\n",
    "train_labels, \\\n",
    "val_features, \\\n",
    "val_labels, \\\n",
    "test_features, \\\n",
    "test_labels = read_data_for_training(FEATURES_FILE_PATH,\n",
    "                                     LABELS_FILE_PATH)"
   ]
  },
  {
   "cell_type": "markdown",
   "id": "adafc4a3",
   "metadata": {},
   "source": [
    "# 3. Define hyperparameters for neural network"
   ]
  },
  {
   "cell_type": "markdown",
   "id": "1c3aa14a",
   "metadata": {},
   "source": [
    "In the first place define the hyperparameters of the neural network"
   ]
  },
  {
   "cell_type": "code",
   "execution_count": 4,
   "id": "7882f21a",
   "metadata": {},
   "outputs": [
    {
     "name": "stderr",
     "output_type": "stream",
     "text": [
      "2023-09-27 10:23:26.395451: I tensorflow/compiler/xla/stream_executor/cuda/cuda_gpu_executor.cc:995] successful NUMA node read from SysFS had negative value (-1), but there must be at least one NUMA node, so returning NUMA node zero. See more at https://github.com/torvalds/linux/blob/v6.0/Documentation/ABI/testing/sysfs-bus-pci#L344-L355\n",
      "2023-09-27 10:23:26.414416: I tensorflow/compiler/xla/stream_executor/cuda/cuda_gpu_executor.cc:995] successful NUMA node read from SysFS had negative value (-1), but there must be at least one NUMA node, so returning NUMA node zero. See more at https://github.com/torvalds/linux/blob/v6.0/Documentation/ABI/testing/sysfs-bus-pci#L344-L355\n",
      "2023-09-27 10:23:26.414600: I tensorflow/compiler/xla/stream_executor/cuda/cuda_gpu_executor.cc:995] successful NUMA node read from SysFS had negative value (-1), but there must be at least one NUMA node, so returning NUMA node zero. See more at https://github.com/torvalds/linux/blob/v6.0/Documentation/ABI/testing/sysfs-bus-pci#L344-L355\n",
      "2023-09-27 10:23:26.417074: I tensorflow/compiler/xla/stream_executor/cuda/cuda_gpu_executor.cc:995] successful NUMA node read from SysFS had negative value (-1), but there must be at least one NUMA node, so returning NUMA node zero. See more at https://github.com/torvalds/linux/blob/v6.0/Documentation/ABI/testing/sysfs-bus-pci#L344-L355\n",
      "2023-09-27 10:23:26.417258: I tensorflow/compiler/xla/stream_executor/cuda/cuda_gpu_executor.cc:995] successful NUMA node read from SysFS had negative value (-1), but there must be at least one NUMA node, so returning NUMA node zero. See more at https://github.com/torvalds/linux/blob/v6.0/Documentation/ABI/testing/sysfs-bus-pci#L344-L355\n",
      "2023-09-27 10:23:26.417373: I tensorflow/compiler/xla/stream_executor/cuda/cuda_gpu_executor.cc:995] successful NUMA node read from SysFS had negative value (-1), but there must be at least one NUMA node, so returning NUMA node zero. See more at https://github.com/torvalds/linux/blob/v6.0/Documentation/ABI/testing/sysfs-bus-pci#L344-L355\n",
      "2023-09-27 10:23:26.855824: I tensorflow/compiler/xla/stream_executor/cuda/cuda_gpu_executor.cc:995] successful NUMA node read from SysFS had negative value (-1), but there must be at least one NUMA node, so returning NUMA node zero. See more at https://github.com/torvalds/linux/blob/v6.0/Documentation/ABI/testing/sysfs-bus-pci#L344-L355\n",
      "2023-09-27 10:23:26.855975: I tensorflow/compiler/xla/stream_executor/cuda/cuda_gpu_executor.cc:995] successful NUMA node read from SysFS had negative value (-1), but there must be at least one NUMA node, so returning NUMA node zero. See more at https://github.com/torvalds/linux/blob/v6.0/Documentation/ABI/testing/sysfs-bus-pci#L344-L355\n",
      "2023-09-27 10:23:26.856088: I tensorflow/compiler/xla/stream_executor/cuda/cuda_gpu_executor.cc:995] successful NUMA node read from SysFS had negative value (-1), but there must be at least one NUMA node, so returning NUMA node zero. See more at https://github.com/torvalds/linux/blob/v6.0/Documentation/ABI/testing/sysfs-bus-pci#L344-L355\n",
      "2023-09-27 10:23:26.856191: I tensorflow/core/common_runtime/gpu/gpu_device.cc:1639] Created device /job:localhost/replica:0/task:0/device:GPU:0 with 2103 MB memory:  -> device: 0, name: NVIDIA GeForce RTX 3050 Laptop GPU, pci bus id: 0000:01:00.0, compute capability: 8.6\n"
     ]
    }
   ],
   "source": [
    "# Neural network architecture hyperparameters\n",
    "input_shape = train_features[0].shape\n",
    "output_size = len(train_labels[0])\n",
    "hidden_layer_sizes = [512, 256, 64]\n",
    "regularizer = keras.regularizers.L1L2(l1=0.001,l2=0.1)\n",
    "hidden_activation = 'relu'\n",
    "output_activation = 'linear'\n",
    "use_batch_normalization = True\n",
    "name = 'TestModel'\n",
    "\n",
    "# Compilation hyperparameters\n",
    "loss_function = tf.keras.losses.MeanSquaredError()\n",
    "learning_rate = 0.01\n",
    "optimizer = Adam(learning_rate=learning_rate, beta_1=0.9, beta_2=0.999)\n",
    "metric = tf.keras.metrics.MeanSquaredError()\n",
    "\n",
    "# Training hyperparameters\n",
    "epochs = 3\n",
    "batch_size = 512\n",
    "reduce_lr = ReduceLROnPlateau('mean_squared_error', factor=0.1, patience=150, verbose=1)\n",
    "early_stop = EarlyStopping('mean_squared_error', patience=500, verbose=1)\n",
    "callbacks = [reduce_lr, early_stop]"
   ]
  },
  {
   "cell_type": "markdown",
   "id": "2d2012a0",
   "metadata": {},
   "source": [
    "# 4. Train Network"
   ]
  },
  {
   "cell_type": "markdown",
   "id": "d304233f",
   "metadata": {},
   "source": [
    "Create the architecture"
   ]
  },
  {
   "cell_type": "code",
   "execution_count": 5,
   "id": "b68874cc",
   "metadata": {},
   "outputs": [],
   "source": [
    "surface_reconstructor_model = create_linear_architecture(input_shape,\n",
    "                                                         output_size,\n",
    "                                                         hidden_layer_sizes,\n",
    "                                                         regularizer,\n",
    "                                                         hidden_activation,\n",
    "                                                         output_activation,\n",
    "                                                         use_batch_normalization=use_batch_normalization,\n",
    "                                                         name=name)"
   ]
  },
  {
   "cell_type": "markdown",
   "id": "bf76d02a",
   "metadata": {},
   "source": [
    "Compile the model"
   ]
  },
  {
   "cell_type": "code",
   "execution_count": 6,
   "id": "eae7e0ed",
   "metadata": {},
   "outputs": [],
   "source": [
    "compile_linear_model(surface_reconstructor_model,\n",
    "                     loss_function,\n",
    "                     optimizer,\n",
    "                     metric\n",
    "                     )"
   ]
  },
  {
   "cell_type": "markdown",
   "id": "51a2750b",
   "metadata": {},
   "source": [
    "Fit the model"
   ]
  },
  {
   "cell_type": "code",
   "execution_count": 7,
   "id": "3293f9ea",
   "metadata": {},
   "outputs": [
    {
     "name": "stdout",
     "output_type": "stream",
     "text": [
      "Epoch 1/3\n"
     ]
    },
    {
     "name": "stderr",
     "output_type": "stream",
     "text": [
      "2023-09-27 10:23:28.589876: I tensorflow/compiler/xla/stream_executor/cuda/cuda_blas.cc:606] TensorFloat-32 will be used for the matrix multiplication. This will only be logged once.\n",
      "2023-09-27 10:23:28.593406: I tensorflow/compiler/xla/service/service.cc:168] XLA service 0x7f984c01c900 initialized for platform CUDA (this does not guarantee that XLA will be used). Devices:\n",
      "2023-09-27 10:23:28.593452: I tensorflow/compiler/xla/service/service.cc:176]   StreamExecutor device (0): NVIDIA GeForce RTX 3050 Laptop GPU, Compute Capability 8.6\n",
      "2023-09-27 10:23:28.603405: I tensorflow/compiler/mlir/tensorflow/utils/dump_mlir_util.cc:255] disabling MLIR crash reproducer, set env var `MLIR_CRASH_REPRODUCER_DIRECTORY` to enable.\n",
      "2023-09-27 10:23:28.746142: I tensorflow/compiler/xla/stream_executor/cuda/cuda_dnn.cc:432] Loaded cuDNN version 8600\n",
      "2023-09-27 10:23:28.845097: I ./tensorflow/compiler/jit/device_compiler.h:186] Compiled cluster using XLA!  This line is logged at most once for the lifetime of the process.\n"
     ]
    },
    {
     "name": "stdout",
     "output_type": "stream",
     "text": [
      "94/94 [==============================] - 4s 10ms/step - loss: 28.0325 - mean_squared_error: 8.7768 - val_loss: 15.8714 - val_mean_squared_error: 12.7633 - lr: 0.0100\n",
      "Epoch 2/3\n",
      "94/94 [==============================] - 1s 8ms/step - loss: 6.2350 - mean_squared_error: 3.5778 - val_loss: 11.4600 - val_mean_squared_error: 9.2523 - lr: 0.0100\n",
      "Epoch 3/3\n",
      "94/94 [==============================] - 1s 8ms/step - loss: 5.1163 - mean_squared_error: 3.1653 - val_loss: 7.7928 - val_mean_squared_error: 6.0309 - lr: 0.0100\n"
     ]
    }
   ],
   "source": [
    "history = train_linear_model(surface_reconstructor_model,\n",
    "                             train_features,\n",
    "                             train_labels,\n",
    "                             batch_size,\n",
    "                             epochs,\n",
    "                             val_features,\n",
    "                             val_labels,\n",
    "                             callbacks)"
   ]
  },
  {
   "cell_type": "markdown",
   "id": "28ed164b",
   "metadata": {},
   "source": [
    "# 5. Check training process"
   ]
  },
  {
   "cell_type": "code",
   "execution_count": 8,
   "id": "247258c0",
   "metadata": {},
   "outputs": [
    {
     "data": {
      "image/png": "[encoded data removed]",
      "text/plain": [
       "<Figure size 800x500 with 1 Axes>"
      ]
     },
     "metadata": {},
     "output_type": "display_data"
    }
   ],
   "source": [
    "plot_model_history(history)"
   ]
  },
  {
   "cell_type": "markdown",
   "id": "73b5285d",
   "metadata": {},
   "source": [
    "# 6. Save model and description"
   ]
  },
  {
   "cell_type": "code",
   "execution_count": 9,
   "id": "37cad6f5",
   "metadata": {},
   "outputs": [
    {
     "ename": "AttributeError",
     "evalue": "'_io.TextIOWrapper' object has no attribute 'writeline'",
     "output_type": "error",
     "traceback": [
      "\u001b[0;31m---------------------------------------------------------------------------\u001b[0m",
      "\u001b[0;31mAttributeError\u001b[0m                            Traceback (most recent call last)",
      "Cell \u001b[0;32mIn[9], line 23\u001b[0m\n\u001b[1;32m      1\u001b[0m description \u001b[38;5;241m=\u001b[39m \u001b[38;5;124mf\u001b[39m\u001b[38;5;124m\"\u001b[39m\u001b[38;5;132;01m{\u001b[39;00mname\u001b[38;5;132;01m}\u001b[39;00m\u001b[38;5;124m:\u001b[39m\u001b[38;5;130;01m\\n\u001b[39;00m\u001b[38;5;130;01m\\\u001b[39;00m\n\u001b[1;32m      2\u001b[0m \u001b[38;5;124m# Neural network architecture hyperparameters \u001b[39m\u001b[38;5;130;01m\\n\u001b[39;00m\u001b[38;5;130;01m\\\u001b[39;00m\n\u001b[1;32m      3\u001b[0m \u001b[38;5;124minput_size = train_features[0].shape \u001b[39m\u001b[38;5;130;01m\\n\u001b[39;00m\u001b[38;5;130;01m\\\u001b[39;00m\n\u001b[0;32m   (...)\u001b[0m\n\u001b[1;32m     20\u001b[0m \u001b[38;5;124mearly_stop = EarlyStopping(\u001b[39m\u001b[38;5;124m'\u001b[39m\u001b[38;5;124mmean_squared_error\u001b[39m\u001b[38;5;124m'\u001b[39m\u001b[38;5;124m, patience=500, verbose=1) \u001b[39m\u001b[38;5;130;01m\\n\u001b[39;00m\u001b[38;5;130;01m\\\u001b[39;00m\n\u001b[1;32m     21\u001b[0m \u001b[38;5;124mcallbacks = [reduce_lr, early_stop]\u001b[39m\u001b[38;5;124m\"\u001b[39m\n\u001b[0;32m---> 23\u001b[0m \u001b[43mstore_model\u001b[49m\u001b[43m(\u001b[49m\u001b[43msurface_reconstructor_model\u001b[49m\u001b[43m,\u001b[49m\n\u001b[1;32m     24\u001b[0m \u001b[43m            \u001b[49m\u001b[43mname\u001b[49m\u001b[43m,\u001b[49m\n\u001b[1;32m     25\u001b[0m \u001b[43m            \u001b[49m\u001b[43mdescription\u001b[49m\u001b[43m)\u001b[49m\n",
      "File \u001b[0;32m~/DaniProjects/SurfaceReconstruction/Utils/modeling.py:210\u001b[0m, in \u001b[0;36mstore_model\u001b[0;34m(model, model_name, description)\u001b[0m\n\u001b[1;32m    207\u001b[0m model\u001b[38;5;241m.\u001b[39msave(model_file_path)\n\u001b[1;32m    209\u001b[0m \u001b[38;5;28;01mwith\u001b[39;00m \u001b[38;5;28mopen\u001b[39m(MODELS_DESCRIPTION_FILE_PATH, \u001b[38;5;124m'\u001b[39m\u001b[38;5;124ma\u001b[39m\u001b[38;5;124m'\u001b[39m) \u001b[38;5;28;01mas\u001b[39;00m f:\n\u001b[0;32m--> 210\u001b[0m \t\u001b[43mf\u001b[49m\u001b[38;5;241;43m.\u001b[39;49m\u001b[43mwriteline\u001b[49m(model_name)\n\u001b[1;32m    211\u001b[0m \tf\u001b[38;5;241m.\u001b[39mwriteline(description)\n\u001b[1;32m    213\u001b[0m \u001b[38;5;28;01mreturn\u001b[39;00m \u001b[38;5;28;01mNone\u001b[39;00m\n",
      "\u001b[0;31mAttributeError\u001b[0m: '_io.TextIOWrapper' object has no attribute 'writeline'"
     ]
    }
   ],
   "source": [
    "description = f\"{name}:\\n\\\n",
    "# Neural network architecture hyperparameters \\n\\\n",
    "input_size = train_features[0].shape \\n\\\n",
    "output_size = len(train_labels[0]) \\n\\\n",
    "hidden_layer_sizes = [512, 256, 64] \\n\\\n",
    "regularizer = keras.regularizers.L1L2(l1=0.001,l2=0.1) \\n\\\n",
    "hidden_activation = 'relu' \\n\\\n",
    "output_activation = 'linear' \\n\\\n",
    "use_batch_normalization = True \\n\\\n",
    "name = 'LinearSurfaceReconstructor' \\n\\\n",
    "# Compilation hyperparameters \\n\\\n",
    "loss_function = tf.keras.losses.MeanSquaredError() \\n\\\n",
    "learning_rate = 0.01 \\n\\\n",
    "optimizer = Adam(learning_rate=learning_rate, beta_1=0.9, beta_2=0.999) \\n\\\n",
    "metric = tf.keras.metrics.MeanSquaredError() \\n\\\n",
    "# Training hyperparameters \\n\\\n",
    "epochs = 750 \\n\\\n",
    "batch_size = 512 \\n\\\n",
    "reduce_lr = ReduceLROnPlateau('mean_squared_error', factor=0.1, patience=150, verbose=1) \\n\\\n",
    "early_stop = EarlyStopping('mean_squared_error', patience=500, verbose=1) \\n\\\n",
    "callbacks = [reduce_lr, early_stop]\"\n",
    "\n",
    "store_model(surface_reconstructor_model,\n",
    "            name,\n",
    "            description)"
   ]
  },
  {
   "cell_type": "code",
   "execution_count": null,
   "id": "384161ce",
   "metadata": {},
   "outputs": [],
   "source": []
  }
 ],
 "metadata": {
  "kernelspec": {
   "display_name": "iac-env",
   "language": "python",
   "name": "iac-env"
  },
  "language_info": {
   "codemirror_mode": {
    "name": "ipython",
    "version": 3
   },
   "file_extension": ".py",
   "mimetype": "text/x-python",
   "name": "python",
   "nbconvert_exporter": "python",
   "pygments_lexer": "ipython3",
   "version": "3.9.18"
  }
 },
 "nbformat": 4,
 "nbformat_minor": 5
}
