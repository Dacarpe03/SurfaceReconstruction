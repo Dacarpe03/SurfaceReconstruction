{
 "cells": [
  {
   "cell_type": "markdown",
   "id": "e3f9bef8",
   "metadata": {},
   "source": [
    "# 0. Import libraries"
   ]
  },
  {
   "cell_type": "markdown",
   "id": "56a2f8ed",
   "metadata": {},
   "source": [
    "The libraries used to create the data are in the following cell"
   ]
  },
  {
   "cell_type": "code",
   "execution_count": 1,
   "id": "c0741bed",
   "metadata": {},
   "outputs": [
    {
     "name": "stderr",
     "output_type": "stream",
     "text": [
      "2023-09-27 10:11:29.067887: I tensorflow/core/platform/cpu_feature_guard.cc:182] This TensorFlow binary is optimized to use available CPU instructions in performance-critical operations.\n",
      "To enable the following instructions: AVX2 FMA, in other operations, rebuild TensorFlow with the appropriate compiler flags.\n",
      "2023-09-27 10:11:29.676592: W tensorflow/compiler/tf2tensorrt/utils/py_utils.cc:38] TF-TRT Warning: Could not find TensorRT\n"
     ]
    },
    {
     "ename": "TabError",
     "evalue": "inconsistent use of tabs and spaces in indentation (modeling.py, line 126)",
     "output_type": "error",
     "traceback": [
      "Traceback \u001b[0;36m(most recent call last)\u001b[0m:\n",
      "\u001b[0m  File \u001b[1;32m~/miniconda3/envs/iac-env/lib/python3.9/site-packages/IPython/core/interactiveshell.py:3526\u001b[0m in \u001b[1;35mrun_code\u001b[0m\n    exec(code_obj, self.user_global_ns, self.user_ns)\u001b[0m\n",
      "\u001b[0;36m  Cell \u001b[0;32mIn[1], line 9\u001b[0;36m\n\u001b[0;31m    from modeling import *\u001b[0;36m\n",
      "\u001b[0;36m  File \u001b[0;32m~/DaniProjects/SurfaceReconstruction/Utils/modeling.py:126\u001b[0;36m\u001b[0m\n\u001b[0;31m    model.compile(loss=loss_function, optimizer=optimizer, metrics=[metric])\u001b[0m\n\u001b[0m    ^\u001b[0m\n\u001b[0;31mTabError\u001b[0m\u001b[0;31m:\u001b[0m inconsistent use of tabs and spaces in indentation\n"
     ]
    }
   ],
   "source": [
    "import matplotlib.pyplot as plt\n",
    "import numpy as np\n",
    "import pandas as pd\n",
    "import tensorflow as tf\n",
    "from tensorflow import keras\n",
    "from keras.callbacks import LearningRateScheduler,TerminateOnNaN, EarlyStopping, ReduceLROnPlateau, ModelCheckpoint\n",
    "from tensorflow.keras.optimizers import Adam\n",
    "\n",
    "from modeling import * \n",
    "from constants import DATA_FOLDER_PATH"
   ]
  },
  {
   "cell_type": "markdown",
   "id": "dd2879df",
   "metadata": {},
   "source": [
    "# 1. Define constants"
   ]
  },
  {
   "cell_type": "markdown",
   "id": "ce63383a",
   "metadata": {},
   "source": [
    "This section defines constants to specify the location of the data and where the model will be stored"
   ]
  },
  {
   "cell_type": "code",
   "execution_count": null,
   "id": "6ebca1e5",
   "metadata": {},
   "outputs": [],
   "source": [
    "# Path to the files where the data for the training is\n",
    "FEATURES_FILENAME = \"surfaces_linear.npy\"\n",
    "LABELS_FILENAME = \"coefficients_linear.npy\"\n",
    "\n",
    "FEATURES_FILE_PATH = f\"{DATA_FOLDER_PATH}/{FEATURES_FILENAME}\"\n",
    "LABELS_FILE_PATH = f\"{DATA_FOLDER_PATH}/{LABELS_FILENAME}\""
   ]
  },
  {
   "cell_type": "markdown",
   "id": "17bd56de",
   "metadata": {},
   "source": [
    "# 2. Read data"
   ]
  },
  {
   "cell_type": "markdown",
   "id": "fc99edb1",
   "metadata": {},
   "source": [
    "Get train, validation and test data"
   ]
  },
  {
   "cell_type": "code",
   "execution_count": null,
   "id": "df777b87",
   "metadata": {},
   "outputs": [],
   "source": [
    "train_features, \\\n",
    "train_labels, \\\n",
    "val_features, \\\n",
    "val_labels, \\\n",
    "test_features, \\\n",
    "test_labels = read_data_for_training(FEATURES_FILE_PATH,\n",
    "                                     LABELS_FILE_PATH)"
   ]
  },
  {
   "cell_type": "markdown",
   "id": "adafc4a3",
   "metadata": {},
   "source": [
    "# 3. Define hyperparameters for neural network"
   ]
  },
  {
   "cell_type": "markdown",
   "id": "ffcfebf8",
   "metadata": {},
   "source": [
    "In the first place define the hyperparameters of the neural network"
   ]
  },
  {
   "cell_type": "code",
   "execution_count": null,
   "id": "d1bff4df",
   "metadata": {},
   "outputs": [],
   "source": [
    "# Neural network architecture hyperparameters\n",
    "input_size = train_features[0].shape\n",
    "output_size = len(train_labels[0])\n",
    "hidden_layer_sizes = [512, 256, 64]\n",
    "regularizer = keras.regularizers.L1L2(l1=0.001,l2=0.1)\n",
    "hidden_activation = 'relu'\n",
    "output_activation = 'linear'\n",
    "use_batch_normalization = True\n",
    "name = 'TestModel'\n",
    "\n",
    "# Compilation hyperparameters\n",
    "loss_function = tf.keras.losses.MeanSquaredError()\n",
    "learning_rate = 0.01\n",
    "optimizer = Adam(learning_rate=learning_rate, beta_1=0.9, beta_2=0.999)\n",
    "metric = tf.keras.metrics.MeanSquaredError()\n",
    "\n",
    "# Training hyperparameters\n",
    "epochs = 3\n",
    "batch_size = 512\n",
    "reduce_lr = ReduceLROnPlateau('mean_squared_error', factor=0.1, patience=150, verbose=1)\n",
    "early_stop = EarlyStopping('mean_squared_error', patience=500, verbose=1)\n",
    "callbacks = [reduce_lr, early_stop]"
   ]
  },
  {
   "cell_type": "markdown",
   "id": "bd33638c",
   "metadata": {},
   "source": [
    "# 4. Train Network"
   ]
  },
  {
   "cell_type": "markdown",
   "id": "3add812f",
   "metadata": {},
   "source": [
    "Create the architecture"
   ]
  },
  {
   "cell_type": "code",
   "execution_count": null,
   "id": "b68874cc",
   "metadata": {},
   "outputs": [],
   "source": [
    "surface_reconstructor_model = create_linear_architecture(input_shape,\n",
    "                                                         output_size,\n",
    "                                                         hidden_layer_sizes,\n",
    "                                                         regularizer,\n",
    "                                                         hidden_activation,\n",
    "                                                         output_activation,\n",
    "                                                         use_batch_normalization=use_batch_normalization,\n",
    "                                                         name=name)"
   ]
  },
  {
   "cell_type": "markdown",
   "id": "bf76d02a",
   "metadata": {},
   "source": [
    "Compile the model"
   ]
  },
  {
   "cell_type": "code",
   "execution_count": null,
   "id": "eae7e0ed",
   "metadata": {},
   "outputs": [],
   "source": [
    "compile_linear_model(surface_reconstructor_model,\n",
    "                     loss_function,\n",
    "                     optimizer,\n",
    "                     metric\n",
    "                     )"
   ]
  },
  {
   "cell_type": "markdown",
   "id": "3dd3c4f9",
   "metadata": {},
   "source": [
    "Fit the model"
   ]
  },
  {
   "cell_type": "code",
   "execution_count": null,
   "id": "3293f9ea",
   "metadata": {},
   "outputs": [],
   "source": [
    "history = train_linear_model(surface_reconstructor_model,\n",
    "                             train_features,\n",
    "                             train_labels,\n",
    "                             batch_size,\n",
    "                             epochs,\n",
    "                             val_features,\n",
    "                             val_labels,\n",
    "                             callbacks)"
   ]
  },
  {
   "cell_type": "markdown",
   "id": "c0dd0d71",
   "metadata": {},
   "source": [
    "# 5. Check training process"
   ]
  },
  {
   "cell_type": "code",
   "execution_count": null,
   "id": "247258c0",
   "metadata": {},
   "outputs": [],
   "source": [
    "plot_model_history(history)"
   ]
  },
  {
   "cell_type": "markdown",
   "id": "a70e3a45",
   "metadata": {},
   "source": [
    "# 6. Save model and description"
   ]
  },
  {
   "cell_type": "code",
   "execution_count": null,
   "id": "f5638d1d",
   "metadata": {},
   "outputs": [],
   "source": [
    "print(\"a \\n\\\n",
    "a\")"
   ]
  },
  {
   "cell_type": "code",
   "execution_count": null,
   "id": "37cad6f5",
   "metadata": {},
   "outputs": [],
   "source": [
    "description = f\"{name}:\\n\\\n",
    "# Neural network architecture hyperparameters \\n\\\n",
    "input_size = train_features[0].shape \\n\\\n",
    "output_size = len(train_labels[0]) \\n\\\n",
    "hidden_layer_sizes = [512, 256, 64] \\n\\\n",
    "regularizer = keras.regularizers.L1L2(l1=0.001,l2=0.1) \\n\\\n",
    "hidden_activation = 'relu' \\n\\\n",
    "output_activation = 'linear' \\n\\\n",
    "use_batch_normalization = True \\n\\\n",
    "name = 'LinearSurfaceReconstructor' \\n\\\n",
    "# Compilation hyperparameters \\n\\\n",
    "loss_function = tf.keras.losses.MeanSquaredError() \\n\\\n",
    "learning_rate = 0.01 \\n\\\n",
    "optimizer = Adam(learning_rate=learning_rate, beta_1=0.9, beta_2=0.999) \\n\\\n",
    "metric = tf.keras.metrics.MeanSquaredError() \\n\\\n",
    "# Training hyperparameters \\n\\\n",
    "epochs = 750 \\n\\\n",
    "batch_size = 512 \\n\\\n",
    "reduce_lr = ReduceLROnPlateau('mean_squared_error', factor=0.1, patience=150, verbose=1) \\n\\\n",
    "early_stop = EarlyStopping('mean_squared_error', patience=500, verbose=1) \\n\\\n",
    "callbacks = [reduce_lr, early_stop]\"\n",
    "\n",
    "print(description)"
   ]
  },
  {
   "cell_type": "code",
   "execution_count": null,
   "id": "4f3669fd",
   "metadata": {},
   "outputs": [],
   "source": []
  }
 ],
 "metadata": {
  "kernelspec": {
   "display_name": "iac-env",
   "language": "python",
   "name": "iac-env"
  },
  "language_info": {
   "codemirror_mode": {
    "name": "ipython",
    "version": 3
   },
   "file_extension": ".py",
   "mimetype": "text/x-python",
   "name": "python",
   "nbconvert_exporter": "python",
   "pygments_lexer": "ipython3",
   "version": "3.9.18"
  }
 },
 "nbformat": 4,
 "nbformat_minor": 5
}
