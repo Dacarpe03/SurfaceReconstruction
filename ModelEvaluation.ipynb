{
 "cells": [
  {
   "cell_type": "markdown",
   "id": "72b1b72c",
   "metadata": {},
   "source": [
    "# 0. Import libraries"
   ]
  },
  {
   "cell_type": "code",
   "execution_count": 2,
   "id": "0cc2ab06",
   "metadata": {},
   "outputs": [],
   "source": [
    "from plot_surfaces import plot_surface_from_zernike_coefficients"
   ]
  },
  {
   "cell_type": "markdown",
   "id": "d1f7bba4",
   "metadata": {},
   "source": [
    "# 1. Define model to evaluate"
   ]
  },
  {
   "cell_type": "code",
   "execution_count": null,
   "id": "ac81bafa",
   "metadata": {},
   "outputs": [],
   "source": [
    "m"
   ]
  }
 ],
 "metadata": {
  "kernelspec": {
   "display_name": "iac-env",
   "language": "python",
   "name": "iac-env"
  },
  "language_info": {
   "codemirror_mode": {
    "name": "ipython",
    "version": 3
   },
   "file_extension": ".py",
   "mimetype": "text/x-python",
   "name": "python",
   "nbconvert_exporter": "python",
   "pygments_lexer": "ipython3",
   "version": "3.9.18"
  }
 },
 "nbformat": 4,
 "nbformat_minor": 5
}
