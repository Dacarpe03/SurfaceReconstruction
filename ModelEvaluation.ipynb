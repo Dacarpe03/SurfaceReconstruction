{
 "cells": [
  {
   "cell_type": "markdown",
   "id": "72b1b72c",
   "metadata": {},
   "source": [
    "# 0. Import libraries"
   ]
  },
  {
   "cell_type": "code",
   "execution_count": 1,
   "id": "0cc2ab06",
   "metadata": {},
   "outputs": [
    {
     "name": "stderr",
     "output_type": "stream",
     "text": [
      "2023-09-28 08:56:21.280973: I tensorflow/core/platform/cpu_feature_guard.cc:182] This TensorFlow binary is optimized to use available CPU instructions in performance-critical operations.\n",
      "To enable the following instructions: AVX2 FMA, in other operations, rebuild TensorFlow with the appropriate compiler flags.\n",
      "2023-09-28 08:56:21.800951: W tensorflow/compiler/tf2tensorrt/utils/py_utils.cc:38] TF-TRT Warning: Could not find TensorRT\n"
     ]
    }
   ],
   "source": [
    "from modeling import load_model, \\\n",
    "                     read_data_for_training, \\\n",
    "                     predict_zernike_coefficients\n",
    "\n",
    "from plot_surfaces import plot_surface_from_zernike_coefficients"
   ]
  },
  {
   "cell_type": "markdown",
   "id": "d1f7bba4",
   "metadata": {},
   "source": [
    "# 1. Define model to evaluate"
   ]
  },
  {
   "cell_type": "code",
   "execution_count": 2,
   "id": "ac81bafa",
   "metadata": {},
   "outputs": [],
   "source": [
    "model_name = \"BigLinearModel\"\n",
    "\n",
    "features_filename = \"surfaces_linear\"\n",
    "labels_filename = \"coefficients_linear\""
   ]
  },
  {
   "cell_type": "markdown",
   "id": "44a107ea",
   "metadata": {},
   "source": [
    "# 2. Load model"
   ]
  },
  {
   "cell_type": "code",
   "execution_count": 3,
   "id": "0372ee73",
   "metadata": {},
   "outputs": [
    {
     "name": "stderr",
     "output_type": "stream",
     "text": [
      "2023-09-28 08:56:22.629677: I tensorflow/compiler/xla/stream_executor/cuda/cuda_gpu_executor.cc:995] successful NUMA node read from SysFS had negative value (-1), but there must be at least one NUMA node, so returning NUMA node zero. See more at https://github.com/torvalds/linux/blob/v6.0/Documentation/ABI/testing/sysfs-bus-pci#L344-L355\n",
      "2023-09-28 08:56:22.745904: I tensorflow/compiler/xla/stream_executor/cuda/cuda_gpu_executor.cc:995] successful NUMA node read from SysFS had negative value (-1), but there must be at least one NUMA node, so returning NUMA node zero. See more at https://github.com/torvalds/linux/blob/v6.0/Documentation/ABI/testing/sysfs-bus-pci#L344-L355\n",
      "2023-09-28 08:56:22.746085: I tensorflow/compiler/xla/stream_executor/cuda/cuda_gpu_executor.cc:995] successful NUMA node read from SysFS had negative value (-1), but there must be at least one NUMA node, so returning NUMA node zero. See more at https://github.com/torvalds/linux/blob/v6.0/Documentation/ABI/testing/sysfs-bus-pci#L344-L355\n",
      "2023-09-28 08:56:22.748175: I tensorflow/compiler/xla/stream_executor/cuda/cuda_gpu_executor.cc:995] successful NUMA node read from SysFS had negative value (-1), but there must be at least one NUMA node, so returning NUMA node zero. See more at https://github.com/torvalds/linux/blob/v6.0/Documentation/ABI/testing/sysfs-bus-pci#L344-L355\n",
      "2023-09-28 08:56:22.748470: I tensorflow/compiler/xla/stream_executor/cuda/cuda_gpu_executor.cc:995] successful NUMA node read from SysFS had negative value (-1), but there must be at least one NUMA node, so returning NUMA node zero. See more at https://github.com/torvalds/linux/blob/v6.0/Documentation/ABI/testing/sysfs-bus-pci#L344-L355\n",
      "2023-09-28 08:56:22.748688: I tensorflow/compiler/xla/stream_executor/cuda/cuda_gpu_executor.cc:995] successful NUMA node read from SysFS had negative value (-1), but there must be at least one NUMA node, so returning NUMA node zero. See more at https://github.com/torvalds/linux/blob/v6.0/Documentation/ABI/testing/sysfs-bus-pci#L344-L355\n",
      "2023-09-28 08:56:23.503414: I tensorflow/compiler/xla/stream_executor/cuda/cuda_gpu_executor.cc:995] successful NUMA node read from SysFS had negative value (-1), but there must be at least one NUMA node, so returning NUMA node zero. See more at https://github.com/torvalds/linux/blob/v6.0/Documentation/ABI/testing/sysfs-bus-pci#L344-L355\n",
      "2023-09-28 08:56:23.503565: I tensorflow/compiler/xla/stream_executor/cuda/cuda_gpu_executor.cc:995] successful NUMA node read from SysFS had negative value (-1), but there must be at least one NUMA node, so returning NUMA node zero. See more at https://github.com/torvalds/linux/blob/v6.0/Documentation/ABI/testing/sysfs-bus-pci#L344-L355\n",
      "2023-09-28 08:56:23.503678: I tensorflow/compiler/xla/stream_executor/cuda/cuda_gpu_executor.cc:995] successful NUMA node read from SysFS had negative value (-1), but there must be at least one NUMA node, so returning NUMA node zero. See more at https://github.com/torvalds/linux/blob/v6.0/Documentation/ABI/testing/sysfs-bus-pci#L344-L355\n",
      "2023-09-28 08:56:23.503811: I tensorflow/core/common_runtime/gpu/gpu_device.cc:1639] Created device /job:localhost/replica:0/task:0/device:GPU:0 with 2103 MB memory:  -> device: 0, name: NVIDIA GeForce RTX 3050 Laptop GPU, pci bus id: 0000:01:00.0, compute capability: 8.6\n"
     ]
    }
   ],
   "source": [
    "surface_reconstructor = load_model(model_name)"
   ]
  },
  {
   "cell_type": "markdown",
   "id": "52cdca1a",
   "metadata": {},
   "source": [
    "# 3. Load data"
   ]
  },
  {
   "cell_type": "code",
   "execution_count": 4,
   "id": "79bca63d",
   "metadata": {},
   "outputs": [],
   "source": [
    "train_features, \\\n",
    "train_labels, \\\n",
    "val_features, \\\n",
    "val_labels, \\\n",
    "test_features, \\\n",
    "test_labels = read_data_for_training(features_filename,\n",
    "                                     labels_filename)"
   ]
  },
  {
   "cell_type": "markdown",
   "id": "cb2cc890",
   "metadata": {},
   "source": [
    "# 4. Select random point from test"
   ]
  },
  {
   "cell_type": "code",
   "execution_count": 5,
   "id": "d47e9635",
   "metadata": {},
   "outputs": [],
   "source": [
    "surface_id = 0\n",
    "test_surface = test_features[surface_id]\n",
    "test_surface_coeffs = test_labels[surface_id]"
   ]
  },
  {
   "cell_type": "markdown",
   "id": "9a9a0abe",
   "metadata": {},
   "source": [
    "# 5. Predict and compare"
   ]
  },
  {
   "cell_type": "code",
   "execution_count": 6,
   "id": "b354b2d1",
   "metadata": {},
   "outputs": [
    {
     "name": "stdout",
     "output_type": "stream",
     "text": [
      "1/1 [==============================] - 1s 1s/step\n"
     ]
    },
    {
     "name": "stderr",
     "output_type": "stream",
     "text": [
      "2023-09-28 08:56:25.305263: I tensorflow/compiler/xla/stream_executor/cuda/cuda_blas.cc:606] TensorFloat-32 will be used for the matrix multiplication. This will only be logged once.\n"
     ]
    }
   ],
   "source": [
    "test_surface_predicted_coeffs = predict_zernike_coefficients(surface_reconstructor,\n",
    "                                                             test_surface)"
   ]
  },
  {
   "cell_type": "markdown",
   "id": "dc745245",
   "metadata": {},
   "source": [
    "### Original Surface"
   ]
  },
  {
   "cell_type": "code",
   "execution_count": 7,
   "id": "7e4637b6",
   "metadata": {},
   "outputs": [
    {
     "ename": "NameError",
     "evalue": "name 'compute_surface_mesh' is not defined",
     "output_type": "error",
     "traceback": [
      "\u001b[0;31m---------------------------------------------------------------------------\u001b[0m",
      "\u001b[0;31mNameError\u001b[0m                                 Traceback (most recent call last)",
      "Cell \u001b[0;32mIn[7], line 1\u001b[0m\n\u001b[0;32m----> 1\u001b[0m \u001b[43mplot_surface_from_zernike_coefficients\u001b[49m\u001b[43m(\u001b[49m\u001b[43mtest_surface_coeffs\u001b[49m\u001b[43m,\u001b[49m\u001b[43m \u001b[49m\u001b[38;5;28;43;01mTrue\u001b[39;49;00m\u001b[43m)\u001b[49m\n",
      "File \u001b[0;32m~/DaniProjects/SurfaceReconstruction/Utils/plot_surfaces.py:70\u001b[0m, in \u001b[0;36mplot_surface_from_zernike_coefficients\u001b[0;34m(zernike_coefficients, verbose)\u001b[0m\n\u001b[1;32m     67\u001b[0m zernike_polynomials \u001b[38;5;241m=\u001b[39m generate_zernike_polynomial_tuples_from_coefficients(zernike_coefficients)\n\u001b[1;32m     69\u001b[0m \u001b[38;5;66;03m# Then plot the surface\u001b[39;00m\n\u001b[0;32m---> 70\u001b[0m \u001b[43mplot_surface\u001b[49m\u001b[43m(\u001b[49m\u001b[43mzernike_polynomials\u001b[49m\u001b[43m,\u001b[49m\u001b[43m \u001b[49m\n\u001b[1;32m     71\u001b[0m \u001b[43m             \u001b[49m\u001b[43mverbose\u001b[49m\u001b[38;5;241;43m=\u001b[39;49m\u001b[43mverbose\u001b[49m\u001b[43m)\u001b[49m\n\u001b[1;32m     73\u001b[0m \u001b[38;5;28;01mreturn\u001b[39;00m \u001b[38;5;28;01mNone\u001b[39;00m\n",
      "File \u001b[0;32m~/DaniProjects/SurfaceReconstruction/Utils/plot_surfaces.py:35\u001b[0m, in \u001b[0;36mplot_surface\u001b[0;34m(zernike_polynomials, n_radiuses, n_angles, verbose)\u001b[0m\n\u001b[1;32m     32\u001b[0m rho_mesh, varphi_mesh \u001b[38;5;241m=\u001b[39m np\u001b[38;5;241m.\u001b[39mmeshgrid(rho_samples, varphi_samples)\n\u001b[1;32m     34\u001b[0m \u001b[38;5;66;03m# Compute the surface mesh\u001b[39;00m\n\u001b[0;32m---> 35\u001b[0m surface_mesh \u001b[38;5;241m=\u001b[39m \u001b[43mcompute_surface_mesh\u001b[49m(zernike_polynomials,\n\u001b[1;32m     36\u001b[0m                                     rho_mesh,\n\u001b[1;32m     37\u001b[0m                                     varphi_mesh,\n\u001b[1;32m     38\u001b[0m                                     verbose\u001b[38;5;241m=\u001b[39mverbose)\n\u001b[1;32m     40\u001b[0m \u001b[38;5;66;03m# Converto to cartesian coordinates\u001b[39;00m\n\u001b[1;32m     41\u001b[0m X, Y \u001b[38;5;241m=\u001b[39m rho_mesh\u001b[38;5;241m*\u001b[39mnp\u001b[38;5;241m.\u001b[39mcos(varphi_mesh), rho_mesh\u001b[38;5;241m*\u001b[39mnp\u001b[38;5;241m.\u001b[39msin(varphi_mesh)\n",
      "\u001b[0;31mNameError\u001b[0m: name 'compute_surface_mesh' is not defined"
     ]
    }
   ],
   "source": [
    "plot_surface_from_zernike_coefficients(test_surface_coeffs, True)"
   ]
  },
  {
   "cell_type": "markdown",
   "id": "e146e080",
   "metadata": {},
   "source": [
    "### Reconstructed Surface"
   ]
  },
  {
   "cell_type": "code",
   "execution_count": null,
   "id": "4bba9c76",
   "metadata": {},
   "outputs": [],
   "source": [
    "plot_surface_from_zernike_coefficients(test_surface_predicted_coeffs, True)"
   ]
  }
 ],
 "metadata": {
  "kernelspec": {
   "display_name": "iac-env",
   "language": "python",
   "name": "iac-env"
  },
  "language_info": {
   "codemirror_mode": {
    "name": "ipython",
    "version": 3
   },
   "file_extension": ".py",
   "mimetype": "text/x-python",
   "name": "python",
   "nbconvert_exporter": "python",
   "pygments_lexer": "ipython3",
   "version": "3.9.18"
  }
 },
 "nbformat": 4,
 "nbformat_minor": 5
}
