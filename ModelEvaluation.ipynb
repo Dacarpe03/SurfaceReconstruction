{
 "cells": [
  {
   "cell_type": "markdown",
   "id": "72b1b72c",
   "metadata": {},
   "source": [
    "# 0. Import libraries"
   ]
  },
  {
   "cell_type": "code",
   "execution_count": 1,
   "id": "0cc2ab06",
   "metadata": {},
   "outputs": [
    {
     "ename": "SyntaxError",
     "evalue": "invalid syntax (modeling.py, line 292)",
     "output_type": "error",
     "traceback": [
      "Traceback \u001b[0;36m(most recent call last)\u001b[0m:\n",
      "\u001b[0m  File \u001b[1;32m~/miniconda3/envs/iac-env/lib/python3.9/site-packages/IPython/core/interactiveshell.py:3526\u001b[0m in \u001b[1;35mrun_code\u001b[0m\n    exec(code_obj, self.user_global_ns, self.user_ns)\u001b[0m\n",
      "\u001b[0;36m  Cell \u001b[0;32mIn[1], line 1\u001b[0;36m\n\u001b[0;31m    from modeling import load_model, \\\u001b[0;36m\n",
      "\u001b[0;36m  File \u001b[0;32m~/DaniProjects/SurfaceReconstruction/Utils/modeling.py:292\u001b[0;36m\u001b[0m\n\u001b[0;31m    print(\"MSE\": results[1])\u001b[0m\n\u001b[0m               ^\u001b[0m\n\u001b[0;31mSyntaxError\u001b[0m\u001b[0;31m:\u001b[0m invalid syntax\n"
     ]
    }
   ],
   "source": [
    "from modeling import load_model, \\\n",
    "                     read_data_for_training, \\\n",
    "                     predict_zernike_coefficients, \\\n",
    "                     evaluate_model\n",
    "\n",
    "from plot_surfaces import plot_surface_from_zernike_coefficients"
   ]
  },
  {
   "cell_type": "markdown",
   "id": "d1f7bba4",
   "metadata": {},
   "source": [
    "# 1. Define model to evaluate"
   ]
  },
  {
   "cell_type": "code",
   "execution_count": null,
   "id": "ac81bafa",
   "metadata": {},
   "outputs": [],
   "source": [
    "model_name = \"linear\"\n",
    "\n",
    "features_filename = \"surfaces_linear\"\n",
    "labels_filename = \"coefficients_linear\""
   ]
  },
  {
   "cell_type": "markdown",
   "id": "44a107ea",
   "metadata": {},
   "source": [
    "# 2. Load model"
   ]
  },
  {
   "cell_type": "code",
   "execution_count": null,
   "id": "0372ee73",
   "metadata": {},
   "outputs": [],
   "source": [
    "surface_reconstructor = load_model(model_name)"
   ]
  },
  {
   "cell_type": "markdown",
   "id": "52cdca1a",
   "metadata": {},
   "source": [
    "# 3. Load data"
   ]
  },
  {
   "cell_type": "code",
   "execution_count": null,
   "id": "79bca63d",
   "metadata": {},
   "outputs": [],
   "source": [
    "train_features, \\\n",
    "train_labels, \\\n",
    "val_features, \\\n",
    "val_labels, \\\n",
    "test_features, \\\n",
    "test_labels = read_data_for_training(features_filename,\n",
    "                                     labels_filename)"
   ]
  },
  {
   "cell_type": "markdown",
   "id": "5694bf35",
   "metadata": {},
   "source": [
    "# 4. Evaluate the models"
   ]
  },
  {
   "cell_type": "code",
   "execution_count": null,
   "id": "2e4ecc86",
   "metadata": {},
   "outputs": [],
   "source": [
    "evaluate_model(surface_reconstructor,\n",
    "               val_features,\n",
    "               val_labels)"
   ]
  },
  {
   "cell_type": "markdown",
   "id": "cb2cc890",
   "metadata": {},
   "source": [
    "# 5. A visual comparison"
   ]
  },
  {
   "cell_type": "markdown",
   "id": "b6dddac8",
   "metadata": {},
   "source": [
    "Select a surface to visualize"
   ]
  },
  {
   "cell_type": "code",
   "execution_count": null,
   "id": "d47e9635",
   "metadata": {},
   "outputs": [],
   "source": [
    "surface_id = 3\n",
    "test_surface = test_features[surface_id]\n",
    "test_surface_coeffs = test_labels[surface_id]"
   ]
  },
  {
   "cell_type": "markdown",
   "id": "02e729cd",
   "metadata": {},
   "source": [
    "Obtain the coefficients extracte"
   ]
  },
  {
   "cell_type": "code",
   "execution_count": null,
   "id": "b354b2d1",
   "metadata": {},
   "outputs": [],
   "source": [
    "test_surface_predicted_coeffs = predict_zernike_coefficients(surface_reconstructor,\n",
    "                                                             test_surface)"
   ]
  },
  {
   "cell_type": "markdown",
   "id": "dc745245",
   "metadata": {},
   "source": [
    "### Original Surface"
   ]
  },
  {
   "cell_type": "code",
   "execution_count": null,
   "id": "7c065e2e",
   "metadata": {},
   "outputs": [],
   "source": [
    "evaluate_model(surface_reconstructor, val_features, val_labels)"
   ]
  },
  {
   "cell_type": "code",
   "execution_count": null,
   "id": "7e4637b6",
   "metadata": {},
   "outputs": [],
   "source": [
    "plot_surface_from_zernike_coefficients(test_surface_coeffs, True)"
   ]
  },
  {
   "cell_type": "markdown",
   "id": "e146e080",
   "metadata": {},
   "source": [
    "### Reconstructed Surface"
   ]
  },
  {
   "cell_type": "code",
   "execution_count": null,
   "id": "4bba9c76",
   "metadata": {},
   "outputs": [],
   "source": [
    "plot_surface_from_zernike_coefficients(test_surface_predicted_coeffs, True, True)"
   ]
  },
  {
   "cell_type": "code",
   "execution_count": null,
   "id": "74efc9b8",
   "metadata": {},
   "outputs": [],
   "source": []
  }
 ],
 "metadata": {
  "kernelspec": {
   "display_name": "iac-env",
   "language": "python",
   "name": "iac-env"
  },
  "language_info": {
   "codemirror_mode": {
    "name": "ipython",
    "version": 3
   },
   "file_extension": ".py",
   "mimetype": "text/x-python",
   "name": "python",
   "nbconvert_exporter": "python",
   "pygments_lexer": "ipython3",
   "version": "3.9.18"
  }
 },
 "nbformat": 4,
 "nbformat_minor": 5
}
